{
 "cells": [
  {
   "cell_type": "markdown",
   "id": "8addd031-c660-4a53-97a6-ea8988f72d7c",
   "metadata": {},
   "source": [
    "# Enqueue"
   ]
  },
  {
   "cell_type": "code",
   "execution_count": 1,
   "id": "979d687f-b0b4-45e2-9fb6-f468fc07c65d",
   "metadata": {},
   "outputs": [],
   "source": [
    "class Cell:\n",
    "    def __init__(self, value=None):\n",
    "        self.Value = value\n",
    "        self.Next = None\n",
    "        self.Prev = None\n",
    "\n",
    "class DoublyLinkedList:\n",
    "    def __init__(self):\n",
    "        # Initialize the sentinel node\n",
    "        self.top_sentinel = Cell()\n",
    "\n",
    "    def enqueue(self, new_value):\n",
    "        # Create the new cell\n",
    "        new_cell = Cell(new_value)\n",
    "        \n",
    "        # Adjust pointers to insert the new cell after the sentinel\n",
    "        new_cell.Next = self.top_sentinel.Next\n",
    "        self.top_sentinel.Next = new_cell\n",
    "        new_cell.Prev = self.top_sentinel\n",
    "        \n",
    "        # Update the Prev pointer of the next node, if it exists\n",
    "        if new_cell.Next is not None:\n",
    "            new_cell.Next.Prev = new_cell\n",
    "\n",
    "# Example usage:\n",
    "dll = DoublyLinkedList()\n",
    "dll.enqueue(10)\n",
    "dll.enqueue(20)\n",
    "dll.enqueue(30)\n"
   ]
  },
  {
   "cell_type": "markdown",
   "id": "b41bcdb7-856f-4c65-9410-7d7849a7dd47",
   "metadata": {},
   "source": [
    "# Dequeue\n"
   ]
  },
  {
   "cell_type": "code",
   "execution_count": 11,
   "id": "9dd9bb32-1fc6-4660-9e3c-5bab344f0a42",
   "metadata": {},
   "outputs": [
    {
     "name": "stdout",
     "output_type": "stream",
     "text": [
      "J\n",
      "A\n",
      "N\n",
      "N\n",
      "E\n"
     ]
    }
   ],
   "source": [
    "class Cell:\n",
    "    def __init__(self, value=None):\n",
    "        self.Value = value\n",
    "        self.Next = None\n",
    "        self.Prev = None\n",
    "\n",
    "class DoublyLinkedList:\n",
    "    def __init__(self):\n",
    "        # Initialize the sentinel nodes\n",
    "        self.top_sentinel = Cell()\n",
    "        self.bottom_sentinel = Cell()\n",
    "        \n",
    "        # Link the sentinels to each other\n",
    "        self.top_sentinel.Next = self.bottom_sentinel\n",
    "        self.bottom_sentinel.Prev = self.top_sentinel\n",
    "\n",
    "    def enqueue(self, new_value):\n",
    "        # Add a new value to the front of the list (after the top_sentinel)\n",
    "        new_cell = Cell(new_value)\n",
    "        new_cell.Next = self.top_sentinel.Next\n",
    "        self.top_sentinel.Next = new_cell\n",
    "        new_cell.Prev = self.top_sentinel\n",
    "        \n",
    "        if new_cell.Next is not None:\n",
    "            new_cell.Next.Prev = new_cell\n",
    "\n",
    "    def dequeue(self):\n",
    "        # Remove the value from the end of the list (before the bottom_sentinel)\n",
    "        if self.bottom_sentinel.Prev == self.top_sentinel:\n",
    "            raise Exception(\"Cannot dequeue from an empty list.\")\n",
    "        \n",
    "        # Get the value to return\n",
    "        result = self.bottom_sentinel.Prev.Value\n",
    "        \n",
    "        # Remove the last cell\n",
    "        self.bottom_sentinel.Prev = self.bottom_sentinel.Prev.Prev\n",
    "        self.bottom_sentinel.Prev.Next = self.bottom_sentinel\n",
    "        \n",
    "        return result\n",
    "\n",
    "# Example usage:\n",
    "dll = DoublyLinkedList()\n",
    "dll.enqueue('J')\n",
    "dll.enqueue('A')\n",
    "dll.enqueue('N')\n",
    "dll.enqueue('N')\n",
    "dll.enqueue('E')\n",
    "\n",
    "print(dll.dequeue())  # Outputs: J\n",
    "print(dll.dequeue())  # Outputs: A\n",
    "print(dll.dequeue())  # Outputs: N\n",
    "print(dll.dequeue())  # Outputs: N\n",
    "print(dll.dequeue())  # Outputs: E\n",
    "#print(dll.dequeue())  # Outputs: error"
   ]
  },
  {
   "cell_type": "markdown",
   "id": "4df35ef9-bff1-4f6d-a33b-00d0710eeaf1",
   "metadata": {},
   "source": [
    "# Circular Queue, Enqueue, Dequeue"
   ]
  },
  {
   "cell_type": "code",
   "execution_count": 12,
   "id": "1d8da350-b85b-40e9-90e4-dbd637eecd88",
   "metadata": {},
   "outputs": [
    {
     "name": "stdout",
     "output_type": "stream",
     "text": [
      "CircularQueue([10, 20, 30, 40, None], next=4, last=0)\n"
     ]
    }
   ],
   "source": [
    "class CircularQueue:\n",
    "    def __init__(self, size):\n",
    "        self.queue = [None] * size  # Create a fixed-size list\n",
    "        self.size = size            # Store the size of the queue\n",
    "        self.next = 0               # Index for the next enqueue\n",
    "        self.last = 0               # Index for the next dequeue\n",
    "\n",
    "    def enqueue(self, value):\n",
    "        # Check if the queue is full\n",
    "        if (self.next + 1) % self.size == self.last:\n",
    "            raise Exception(\"Queue is full. Cannot enqueue.\")\n",
    "        \n",
    "        # Add the value to the queue\n",
    "        self.queue[self.next] = value\n",
    "        \n",
    "        # Update the `next` pointer\n",
    "        self.next = (self.next + 1) % self.size\n",
    "\n",
    "    def __str__(self):\n",
    "        return f\"CircularQueue({self.queue}, next={self.next}, last={self.last})\"\n",
    "\n",
    "# Example usage\n",
    "cq = CircularQueue(5)  # Create a circular queue of size 5\n",
    "cq.enqueue(10)\n",
    "cq.enqueue(20)\n",
    "cq.enqueue(30)\n",
    "cq.enqueue(40)\n",
    "\n",
    "print(cq)  # Outputs the state of the queue\n"
   ]
  },
  {
   "cell_type": "code",
   "execution_count": 13,
   "id": "e92cc09c-171b-413e-b9f2-634a48b5d2c9",
   "metadata": {},
   "outputs": [
    {
     "name": "stdout",
     "output_type": "stream",
     "text": [
      "CircularQueue([10, 20, 30, 40, None], next=4, last=0)\n",
      "10\n",
      "20\n",
      "CircularQueue([None, None, 30, 40, None], next=4, last=2)\n"
     ]
    }
   ],
   "source": [
    "class CircularQueue:\n",
    "    def __init__(self, size):\n",
    "        self.queue = [None] * size  # Create a fixed-size list\n",
    "        self.size = size            # Store the size of the queue\n",
    "        self.next = 0               # Index for the next enqueue\n",
    "        self.last = 0               # Index for the next dequeue\n",
    "\n",
    "    def enqueue(self, value):\n",
    "        # Check if the queue is full\n",
    "        if (self.next + 1) % self.size == self.last:\n",
    "            raise Exception(\"Queue is full. Cannot enqueue.\")\n",
    "        \n",
    "        # Add the value to the queue\n",
    "        self.queue[self.next] = value\n",
    "        \n",
    "        # Update the `next` pointer\n",
    "        self.next = (self.next + 1) % self.size\n",
    "\n",
    "    def dequeue(self):\n",
    "        # Check if the queue is empty\n",
    "        if self.next == self.last:\n",
    "            raise Exception(\"Queue is empty. Cannot dequeue.\")\n",
    "        \n",
    "        # Retrieve the value at the `last` pointer\n",
    "        value = self.queue[self.last]\n",
    "        \n",
    "        # Clear the dequeued position (optional, for visualization)\n",
    "        self.queue[self.last] = None\n",
    "        \n",
    "        # Update the `last` pointer\n",
    "        self.last = (self.last + 1) % self.size\n",
    "        \n",
    "        return value\n",
    "\n",
    "    def __str__(self):\n",
    "        return f\"CircularQueue({self.queue}, next={self.next}, last={self.last})\"\n",
    "\n",
    "# Example usage:\n",
    "cq = CircularQueue(5)  # Create a circular queue of size 5\n",
    "cq.enqueue(10)\n",
    "cq.enqueue(20)\n",
    "cq.enqueue(30)\n",
    "cq.enqueue(40)\n",
    "\n",
    "print(cq)  # Check the state of the queue\n",
    "\n",
    "print(cq.dequeue())  # Outputs: 10\n",
    "print(cq.dequeue())  # Outputs: 20\n",
    "\n",
    "print(cq)  # Check the state of the queue after dequeues\n"
   ]
  },
  {
   "cell_type": "markdown",
   "id": "eeba0f16-9894-4ae8-ada6-58f3cfeb48f7",
   "metadata": {},
   "source": [
    "# Bubble Sort"
   ]
  },
  {
   "cell_type": "code",
   "execution_count": 14,
   "id": "e43d29ea-7e0b-488b-b8d7-8875014cef60",
   "metadata": {},
   "outputs": [
    {
     "name": "stdout",
     "output_type": "stream",
     "text": [
      "Sorted Data: [11, 12, 22, 25, 34, 64, 90]\n"
     ]
    }
   ],
   "source": [
    "def bubble_sort(values):\n",
    "    # Repeat until the array is sorted\n",
    "    not_sorted = True\n",
    "    while not_sorted:\n",
    "        # Assume the array is sorted until proven otherwise\n",
    "        not_sorted = False\n",
    "        # Iterate through the array (adjust to avoid out-of-bounds)\n",
    "        for i in range(1, len(values)):\n",
    "            # Check if the current pair is out of order\n",
    "            if values[i] < values[i - 1]:\n",
    "                # Swap the adjacent items\n",
    "                temp = values[i]\n",
    "                values[i] = values[i - 1]\n",
    "                values[i - 1] = temp\n",
    "                # Indicate that the array was not sorted\n",
    "                not_sorted = True\n",
    "    return values\n",
    "\n",
    "# Example usage\n",
    "data = [64, 34, 25, 12, 22, 11, 90]\n",
    "sorted_data = bubble_sort(data)\n",
    "print(\"Sorted Data:\", sorted_data)\n"
   ]
  },
  {
   "cell_type": "markdown",
   "id": "02724095-e5a1-4d70-9df1-a742530c5eac",
   "metadata": {},
   "source": [
    "# Quicksort in Place"
   ]
  },
  {
   "cell_type": "code",
   "execution_count": 15,
   "id": "3dab4b00-7db8-4f59-b5f1-d874b286f7d0",
   "metadata": {},
   "outputs": [
    {
     "name": "stdout",
     "output_type": "stream",
     "text": [
      "Sorted Data: [11, 12, 22, 25, 34, 64, 90]\n"
     ]
    }
   ],
   "source": [
    "def quicksort(values, start, end):\n",
    "    # If the list has no more than one element, it's sorted\n",
    "    if start >= end:\n",
    "        return\n",
    "\n",
    "    # Use the first item as the dividing item (pivot)\n",
    "    divider = values[start]\n",
    "    lo = start\n",
    "    hi = end\n",
    "\n",
    "    while True:\n",
    "        # Move from hi backward to find an item < divider\n",
    "        while values[hi] >= divider:\n",
    "            hi -= 1\n",
    "            if hi <= lo:\n",
    "                break\n",
    "        if hi <= lo:\n",
    "            # Left and right pieces have met\n",
    "            values[lo] = divider\n",
    "            break\n",
    "        # Move the found value to the lower half\n",
    "        values[lo] = values[hi]\n",
    "\n",
    "        # Move from lo forward to find an item >= divider\n",
    "        lo += 1\n",
    "        while values[lo] < divider:\n",
    "            lo += 1\n",
    "            if lo >= hi:\n",
    "                break\n",
    "        if lo >= hi:\n",
    "            # Left and right pieces have met\n",
    "            lo = hi\n",
    "            values[hi] = divider\n",
    "            break\n",
    "        # Move the found value to the upper half\n",
    "        values[hi] = values[lo]\n",
    "\n",
    "    # Recursively sort the two halves\n",
    "    quicksort(values, start, lo - 1)\n",
    "    quicksort(values, lo + 1, end)\n",
    "\n",
    "# Example usage\n",
    "data = [64, 34, 25, 12, 22, 11, 90]\n",
    "quicksort(data, 0, len(data) - 1)\n",
    "print(\"Sorted Data:\", data)\n"
   ]
  },
  {
   "cell_type": "markdown",
   "id": "69bfbe1f-9a26-44c2-bef7-3395c0db964b",
   "metadata": {},
   "source": [
    "# Mergesort"
   ]
  },
  {
   "cell_type": "code",
   "execution_count": 16,
   "id": "438d67fb-8eda-42b9-8f42-db48203d3a52",
   "metadata": {},
   "outputs": [
    {
     "name": "stdout",
     "output_type": "stream",
     "text": [
      "Sorted Data: [11, 12, 22, 25, 34, 64, 90]\n"
     ]
    }
   ],
   "source": [
    "def mergesort(values, scratch, start, end):\n",
    "    # If the array contains only one item, it is already sorted\n",
    "    if start == end:\n",
    "        return\n",
    "\n",
    "    # Find the midpoint\n",
    "    midpoint = (start + end) // 2\n",
    "\n",
    "    # Recursively sort the two halves\n",
    "    mergesort(values, scratch, start, midpoint)\n",
    "    mergesort(values, scratch, midpoint + 1, end)\n",
    "\n",
    "    # Merge the two sorted halves\n",
    "    left_index = start\n",
    "    right_index = midpoint + 1\n",
    "    scratch_index = start\n",
    "\n",
    "    # Compare elements from both halves and copy the smaller one\n",
    "    while left_index <= midpoint and right_index <= end:\n",
    "        if values[left_index] <= values[right_index]:\n",
    "            scratch[scratch_index] = values[left_index]\n",
    "            left_index += 1\n",
    "        else:\n",
    "            scratch[scratch_index] = values[right_index]\n",
    "            right_index += 1\n",
    "        scratch_index += 1\n",
    "\n",
    "    # Copy the remaining elements from the left half, if any\n",
    "    while left_index <= midpoint:\n",
    "        scratch[scratch_index] = values[left_index]\n",
    "        scratch_index += 1\n",
    "        left_index += 1\n",
    "\n",
    "    # Copy the remaining elements from the right half, if any\n",
    "    while right_index <= end:\n",
    "        scratch[scratch_index] = values[right_index]\n",
    "        scratch_index += 1\n",
    "        right_index += 1\n",
    "\n",
    "    # Copy the merged elements back into the original array\n",
    "    for i in range(start, end + 1):\n",
    "        values[i] = scratch[i]\n",
    "\n",
    "# Example usage\n",
    "data = [64, 34, 25, 12, 22, 11, 90]\n",
    "scratch = [0] * len(data)  # Auxiliary array for merging\n",
    "mergesort(data, scratch, 0, len(data) - 1)\n",
    "print(\"Sorted Data:\", data)\n"
   ]
  },
  {
   "cell_type": "code",
   "execution_count": null,
   "id": "5113f725-37ac-4bd9-b594-b20346fbf7d3",
   "metadata": {},
   "outputs": [],
   "source": []
  }
 ],
 "metadata": {
  "kernelspec": {
   "display_name": "Python 3 (ipykernel)",
   "language": "python",
   "name": "python3"
  },
  "language_info": {
   "codemirror_mode": {
    "name": "ipython",
    "version": 3
   },
   "file_extension": ".py",
   "mimetype": "text/x-python",
   "name": "python",
   "nbconvert_exporter": "python",
   "pygments_lexer": "ipython3",
   "version": "3.11.6"
  }
 },
 "nbformat": 4,
 "nbformat_minor": 5
}

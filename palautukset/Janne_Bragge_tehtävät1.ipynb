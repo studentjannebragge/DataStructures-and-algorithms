{
 "cells": [
  {
   "cell_type": "markdown",
   "id": "1fe58c37-5dc5-409d-b3d3-2a075d7ec78d",
   "metadata": {},
   "source": [
    "# KAMK-AI-Studies / Tietorakenteet ja Algoritmit TTM23SAI"
   ]
  },
  {
   "cell_type": "markdown",
   "id": "7530cac0-e73b-491c-8fdf-691ebcfd7244",
   "metadata": {},
   "source": [
    "### Essential Algorithms : A Practical Approach to Computer Algorithms"
   ]
  },
  {
   "cell_type": "markdown",
   "id": "b89a0e0a-67cb-4392-b290-6bd73e1c055a",
   "metadata": {},
   "source": [
    "Tehtävät koodataan jupyterlab tai notebook alustalla ja palautetaan yhtenä etunimi_sukunimi_tehtävät1.ipynb tiedostona erillään muista tehtävä palautuksista Tehtävä palautukset laatikkoon. \r\n",
    "\r\n",
    "Koodin tulee olla toimiva, siistitty ja kommentoitu. Näillä tehtävillä saavutat arvosanan 1.\r\n",
    "\r\n",
    "Tehtävien pseudokoodit löydät kurssi kirjasta alla olevista sivunumeroista,\r\n",
    "tehtäväsi on tehdä näistä omaa toimivaa python koodia ja käyttää mahdollisimman vähän valmiita funktioita.\r\n",
    "s.09 Contains Duplicates\r\n",
    "s.20 Exercises 1 Contains Duplicates Improved Version\r\n",
    "s.31 Randomized array\r\n",
    "s.55-63 Linked List\r\n",
    "s.63-66 Double Linked List\r\n",
    "s.68 Insertionsort\r\n",
    "s.87 FindMinimum\r\n",
    "s.87 FindMaximum\r\n",
    "s.87 FindAverage\r\n",
    "s.87 FindMedian\r\n",
    "s.112 Push Stack\r\n",
    "s.112 Pop Stack\r\n",
    "s.117 Reverse Array with a Stack"
   ]
  },
  {
   "cell_type": "markdown",
   "id": "efefee8f-81ab-4ef9-9178-2b0971356f3c",
   "metadata": {},
   "source": [
    "# Videosarja NeutralNine\n",
    "https://www.youtube.com/@NeuralNine"
   ]
  },
  {
   "cell_type": "markdown",
   "id": "51f749a0-97c3-40c2-aa51-03f30e7b40b2",
   "metadata": {},
   "source": [
    "# ContainsDublicates\n",
    "\n"
   ]
  },
  {
   "cell_type": "code",
   "execution_count": 1,
   "id": "b5df7af2-e05e-4697-a3d3-bb202fc02474",
   "metadata": {},
   "outputs": [
    {
     "name": "stdout",
     "output_type": "stream",
     "text": [
      "CPU times: user 1 µs, sys: 1 µs, total: 2 µs\n",
      "Wall time: 2.62 µs\n"
     ]
    },
    {
     "data": {
      "text/plain": [
       "True"
      ]
     },
     "execution_count": 1,
     "metadata": {},
     "output_type": "execute_result"
    }
   ],
   "source": [
    "%time\n",
    "def containsDublicates(lst):\n",
    "    for i in range(len(lst)):\n",
    "        for j in range(len(lst)):\n",
    "            if i != j and lst[i] == lst[j]:\n",
    "                return True\n",
    "    return False\n",
    "\n",
    "#containsDublicates([1,2,3,4,5,6])\n",
    "containsDublicates([1,2,3,4,5,5])\n",
    "            \n",
    "    "
   ]
  },
  {
   "cell_type": "code",
   "execution_count": 2,
   "id": "b19ee8d3-c654-4559-8070-ed66303ef592",
   "metadata": {},
   "outputs": [],
   "source": [
    "#Optimoitu vastaus"
   ]
  },
  {
   "cell_type": "code",
   "execution_count": 3,
   "id": "0e342154-276e-49b0-9f56-b6bd95fa4167",
   "metadata": {},
   "outputs": [
    {
     "name": "stdout",
     "output_type": "stream",
     "text": [
      "CPU times: user 1e+03 ns, sys: 0 ns, total: 1e+03 ns\n",
      "Wall time: 2.86 µs\n"
     ]
    },
    {
     "data": {
      "text/plain": [
       "True"
      ]
     },
     "execution_count": 3,
     "metadata": {},
     "output_type": "execute_result"
    }
   ],
   "source": [
    "%time\n",
    "def contains_duplicates(lst):\n",
    "    return len(lst) != len(set(lst))\n",
    "\n",
    "#containsDublicates([1,2,3,4,5,6])\n",
    "containsDublicates([1,2,3,4,5,5])"
   ]
  },
  {
   "cell_type": "markdown",
   "id": "3c6fc081-0b18-4548-b309-82a49654e323",
   "metadata": {},
   "source": [
    "# Duplicates Improved Version"
   ]
  },
  {
   "cell_type": "code",
   "execution_count": 4,
   "id": "4934f0b5-a7c7-4234-80ab-135e550b22ae",
   "metadata": {},
   "outputs": [
    {
     "name": "stdout",
     "output_type": "stream",
     "text": [
      "CPU times: user 0 ns, sys: 1 µs, total: 1 µs\n",
      "Wall time: 3.58 µs\n"
     ]
    },
    {
     "data": {
      "text/plain": [
       "True"
      ]
     },
     "execution_count": 4,
     "metadata": {},
     "output_type": "execute_result"
    }
   ],
   "source": [
    "%time\n",
    "def contains_duplicates(lst):\n",
    "    for i in range(len(lst) - 1):\n",
    "        for j in range(i + 1, len(lst)): \n",
    "            if lst[i] == lst[j]:\n",
    "                return True\n",
    "    return False\n",
    "\n",
    "\n",
    "containsDublicates([1,2,3,4,5,5])  \n",
    "#print(contains_duplicates([1, 2, 3, 2]))        \n"
   ]
  },
  {
   "cell_type": "markdown",
   "id": "f645e4f4-a162-46c7-8b05-9e0d1c392722",
   "metadata": {},
   "source": [
    "# Pick Item with Probabilities (extra)"
   ]
  },
  {
   "cell_type": "code",
   "execution_count": 5,
   "id": "910e3467-ad73-4229-97cf-1db6167c5710",
   "metadata": {},
   "outputs": [
    {
     "name": "stdout",
     "output_type": "stream",
     "text": [
      "Selected item: red\n"
     ]
    }
   ],
   "source": [
    "import random\n",
    "\n",
    "def pick_item_with_probabilities(items, probabilities):\n",
    "    value = random.random()\n",
    "    for i in range(len(items)):\n",
    "        value -= probabilities[i]\n",
    "        # If the value drops to zero or below, select the current item\n",
    "        if value <= 0:\n",
    "            return items[i]\n",
    "\n",
    "items = [\"red\", \"green\", \"blue\"]\n",
    "probabilities = [0.25, 0.3, 0.45]\n",
    "\n",
    "result = pick_item_with_probabilities(items, probabilities)\n",
    "print(f\"Selected item: {result}\")"
   ]
  },
  {
   "cell_type": "markdown",
   "id": "65fc09cb-e082-48ca-85fb-4071e5bbbdaa",
   "metadata": {},
   "source": [
    "#  Randomized Array"
   ]
  },
  {
   "cell_type": "code",
   "execution_count": 6,
   "id": "88410e66-4037-4cfa-976c-e58f8aa8f289",
   "metadata": {},
   "outputs": [
    {
     "name": "stdout",
     "output_type": "stream",
     "text": [
      "['e', 'a', 'b', 'd', 'c']\n"
     ]
    }
   ],
   "source": [
    "import random\n",
    "\n",
    "def randomize_array(array):\n",
    "    max_i = len(array)\n",
    "    for i in range(max_i):\n",
    "        j = random.randint(i, max_i - 1)\n",
    "        array[i], array[j] = array[j], array[i]\n",
    "\n",
    "my_array = [\"a\", \"b\", \"c\", \"d\", \"e\"]\n",
    "randomize_array(my_array)\n",
    "print(my_array)\n"
   ]
  },
  {
   "cell_type": "code",
   "execution_count": 7,
   "id": "8bed777f-5720-4eae-b17a-64d33db6afc9",
   "metadata": {},
   "outputs": [
    {
     "name": "stdout",
     "output_type": "stream",
     "text": [
      "CPU times: user 2 µs, sys: 1 µs, total: 3 µs\n",
      "Wall time: 4.53 µs\n",
      "117649.0\n"
     ]
    }
   ],
   "source": [
    "%time\n",
    "import math\n",
    "result = math.pow(7, 6)\n",
    "print(result)  # Tulostaa: 343.0 (palauttaa aina liukuluvun)\n"
   ]
  },
  {
   "cell_type": "code",
   "execution_count": 8,
   "id": "3cc04d6b-cbee-4e8c-9c1b-82d40a63856f",
   "metadata": {},
   "outputs": [
    {
     "name": "stdout",
     "output_type": "stream",
     "text": [
      "CPU times: user 1 µs, sys: 0 ns, total: 1 µs\n",
      "Wall time: 3.81 µs\n",
      "117649.0\n"
     ]
    }
   ],
   "source": [
    "%time\n",
    "import math\n",
    "result = math.pow(7, 2) * math.pow(7, 2) * math.pow(7, 2)\n",
    "print(result) "
   ]
  },
  {
   "cell_type": "markdown",
   "id": "9cfe4fad-bd51-4a48-8410-a1fe11a18006",
   "metadata": {},
   "source": [
    "# finding zeros (extra)"
   ]
  },
  {
   "cell_type": "code",
   "execution_count": 9,
   "id": "7fa472c0-ce96-4e62-90c6-a5930574c6fb",
   "metadata": {},
   "outputs": [],
   "source": [
    "def find_zero(f, dfdx, initial_guess, max_error, max_iterations=100):\n",
    "    x = initial_guess\n",
    "    for i in range(max_iterations):\n",
    "        y = f(x)\n",
    "        if abs(y) < max_error:\n",
    "            break\n",
    "        x = x - y / dfdx(x)\n",
    "    return x\n"
   ]
  },
  {
   "cell_type": "code",
   "execution_count": 10,
   "id": "60f7edb8-3c5f-4b9a-92a0-4ab7699d349a",
   "metadata": {},
   "outputs": [
    {
     "name": "stdout",
     "output_type": "stream",
     "text": [
      "Juuri: 1.4142135623746899\n"
     ]
    }
   ],
   "source": [
    "# Määritellään funktio ja sen derivaatta\n",
    "def f(x):\n",
    "    return x**2 - 2\n",
    "\n",
    "def dfdx(x):\n",
    "    return 2 * x\n",
    "\n",
    "# Lähtöarvaus ja toleranssi\n",
    "initial_guess = 1.0\n",
    "max_error = 1e-6\n",
    "\n",
    "# Lasketaan juuri\n",
    "root = find_zero(f, dfdx, initial_guess, max_error)\n",
    "print(f\"Juuri: {root}\")\n"
   ]
  },
  {
   "cell_type": "markdown",
   "id": "1c20812e-7cfa-4ea1-bf40-c2637d354477",
   "metadata": {},
   "source": [
    "# Linked List"
   ]
  },
  {
   "cell_type": "code",
   "execution_count": 11,
   "id": "ce25ed80-598d-4f57-bd6d-af7d021cbaf4",
   "metadata": {},
   "outputs": [
    {
     "name": "stdout",
     "output_type": "stream",
     "text": [
      "10\n",
      "20\n",
      "30\n"
     ]
    }
   ],
   "source": [
    "class Node:\n",
    "    def __init__(self, value):\n",
    "        self.value = value\n",
    "        self.next = None\n",
    "\n",
    "def iterate(top):\n",
    "    while top is not None:  # Loop through the linked list\n",
    "        print(top.value)    # Print the value of the current node\n",
    "        top = top.next      # Move to the next node\n",
    "\n",
    "\n",
    "# Creating nodes\n",
    "node1 = Node(10)\n",
    "node2 = Node(20)\n",
    "node3 = Node(30)\n",
    "\n",
    "# Linking nodes\n",
    "node1.next = node2  # Node 1 points to Node 2\n",
    "node2.next = node3  # Node 2 points to Node 3\n",
    "\n",
    "# Node 3 is the last node, so its \"next\" is already None\n",
    "\n",
    "iterate(node1)\n"
   ]
  },
  {
   "cell_type": "markdown",
   "id": "a995982f-db85-4650-9ef4-cf5ac33f270f",
   "metadata": {},
   "source": [
    "# Finding Cells"
   ]
  },
  {
   "cell_type": "code",
   "execution_count": 12,
   "id": "550ae762-a813-4402-865f-5e5caf4692c1",
   "metadata": {},
   "outputs": [
    {
     "name": "stdout",
     "output_type": "stream",
     "text": [
      "Node with value 20 found: Node 2\n"
     ]
    }
   ],
   "source": [
    "class Node:\n",
    "    def __init__(self, value):\n",
    "        self.value = value\n",
    "        self.next = None\n",
    "\n",
    "def FindCell(top, target):\n",
    "    position = 1\n",
    "    while top is not None:  # Traverse the linked list\n",
    "        if top.value == target:  # Check if the current node's value matches the target\n",
    "            return top, position  # Return the current node if a match is found\n",
    "        top = top.next  # Move to the next node\n",
    "        position += 1 #Increment the position counter\n",
    "    # If the loop ends without finding the target, return None\n",
    "    return None, -1\n",
    "\n",
    "# Creating nodes\n",
    "node1 = Node(10)\n",
    "node2 = Node(20)\n",
    "node3 = Node(30)\n",
    "\n",
    "# Linking nodes to form a linked list\n",
    "node1.next = node2  # Node 1 points to Node 2\n",
    "node2.next = node3  # Node 2 points to Node 3\n",
    "\n",
    "# Node 3 is the last node, so its \"next\" is already None\n",
    "\n",
    "# Searching for a value in the linked list\n",
    "target_value = 20\n",
    "result, position = FindCell(node1, target_value)\n",
    "\n",
    "if result is not None:\n",
    "    print(f\"Node with value {target_value} found: Node {position}\")\n",
    "else:\n",
    "    print(f\"Node with value {target_value} not found.\")\n"
   ]
  },
  {
   "cell_type": "code",
   "execution_count": 13,
   "id": "78139c38-697e-4099-9e5c-4804ab81fe2c",
   "metadata": {},
   "outputs": [
    {
     "name": "stdout",
     "output_type": "stream",
     "text": [
      "Node before the one with value 30 has value 20.\n"
     ]
    }
   ],
   "source": [
    "class Node:\n",
    "    def __init__(self, value):\n",
    "        self.value = value\n",
    "        self.next = None\n",
    "\n",
    "def FindCellBefore(top, target):\n",
    "    # If the list is empty, or the target is in the first node, return None\n",
    "    if top is None or top.next is None:\n",
    "        return None\n",
    "\n",
    "    # Traverse the list looking for the node before the target node\n",
    "    while top.next is not None:\n",
    "        if top.next.value == target:  # Check if the next node contains the target\n",
    "            return top  # Return the current node (before the target node)\n",
    "        top = top.next  # Move to the next node\n",
    "\n",
    "    # If no match is found, return None\n",
    "    return None\n",
    "\n",
    "# Creating nodes\n",
    "node1 = Node(10)\n",
    "node2 = Node(20)\n",
    "node3 = Node(30)\n",
    "\n",
    "# Linking nodes to form a linked list\n",
    "node1.next = node2  # Node 1 points to Node 2\n",
    "node2.next = node3  # Node 2 points to Node 3\n",
    "\n",
    "# Node 3 is the last node, so its \"next\" is already None\n",
    "\n",
    "# Searching for the node before a target value\n",
    "target_value = 30\n",
    "result = FindCellBefore(node2, target_value)\n",
    "\n",
    "if result is not None:\n",
    "    print(f\"Node before the one with value {target_value} has value {result.value}.\")\n",
    "else:\n",
    "    print(f\"No node found before the one with value {target_value}.\")\n"
   ]
  },
  {
   "cell_type": "code",
   "execution_count": 14,
   "id": "a3c8b0ef-d331-4e71-a3e2-c58a02f466f5",
   "metadata": {},
   "outputs": [
    {
     "name": "stdout",
     "output_type": "stream",
     "text": [
      "Node before the one with value 30 has value 20.\n"
     ]
    }
   ],
   "source": [
    "class Node:\n",
    "    def __init__(self, value):\n",
    "        self.value = value\n",
    "        self.next = None\n",
    "\n",
    "def FindCellBefore(top, target):\n",
    "    # Traverse the list looking for the node before the target node\n",
    "    while top is not None and top.next is not None:  # Ensure we don't access None\n",
    "        if top.next.value == target:  # Check if the next node contains the target\n",
    "            return top  # Return the current node (the one before the target node)\n",
    "        top = top.next  # Move to the next node\n",
    "\n",
    "    # If no match is found, return None\n",
    "    return None\n",
    "\n",
    "# Creating nodes\n",
    "node1 = Node(10)\n",
    "node2 = Node(20)\n",
    "node3 = Node(30)\n",
    "\n",
    "# Linking nodes to form a linked list\n",
    "node1.next = node2  # Node 1 points to Node 2\n",
    "node2.next = node3  # Node 2 points to Node 3\n",
    "\n",
    "# Node 3 is the last node, so its \"next\" is already None\n",
    "\n",
    "# Searching for the node before a target value\n",
    "target_value = 30\n",
    "result = FindCellBefore(node1, target_value)\n",
    "\n",
    "if result is not None:\n",
    "    print(f\"Node before the one with value {target_value} has value {result.value}.\")\n",
    "else:\n",
    "    print(f\"No node found before the one with value {target_value}.\")\n"
   ]
  },
  {
   "cell_type": "markdown",
   "id": "5e80df9a-54f4-4192-a9bd-1d5b44ee85d5",
   "metadata": {},
   "source": [
    "# Using Sentinels"
   ]
  },
  {
   "cell_type": "markdown",
   "id": "022f70de-cd77-48d8-b3a2-91f97f4c1dc3",
   "metadata": {},
   "source": [
    "## Adding Cells at the Beginning"
   ]
  },
  {
   "cell_type": "code",
   "execution_count": 15,
   "id": "1dbcf6b7-56f2-4041-b3c4-6eaf1842f0b4",
   "metadata": {},
   "outputs": [
    {
     "name": "stdout",
     "output_type": "stream",
     "text": [
      "Node before the one with value 10 has value None.\n"
     ]
    }
   ],
   "source": [
    "class Node:\n",
    "    def __init__(self, value):\n",
    "        self.value = value\n",
    "        self.next = None\n",
    "\n",
    "def FindCellBeforeWithSentinel(top, target):\n",
    "    # Create a sentinel node that points to the head of the list\n",
    "    sentinel = Node(None)  # Dummy value\n",
    "    sentinel.next = top\n",
    "\n",
    "    # Use the sentinel as the starting point\n",
    "    current = sentinel\n",
    "\n",
    "    while current.next is not None:  # Traverse the list\n",
    "        if current.next.value == target:  # Check if the next node contains the target\n",
    "            return current  # Return the node before the target\n",
    "        current = current.next  # Move to the next node\n",
    "\n",
    "    # If no match is found, return None\n",
    "    return None\n",
    "\n",
    "# Creating nodes\n",
    "node1 = Node(10)\n",
    "node2 = Node(20)\n",
    "node3 = Node(30)\n",
    "\n",
    "# Linking nodes to form a linked list\n",
    "node1.next = node2  # Node 1 points to Node 2\n",
    "node2.next = node3  # Node 2 points to Node 3\n",
    "\n",
    "# Node 3 is the last node, so its \"next\" is already None\n",
    "\n",
    "# Searching for the node before a target value\n",
    "target_value = 10\n",
    "result = FindCellBeforeWithSentinel(node1, target_value)\n",
    "\n",
    "if result is not None:\n",
    "    print(f\"Node before the one with value {target_value} has value {result.value}.\")\n",
    "else:\n",
    "    print(f\"No node found before the one with value {target_value}.\")\n"
   ]
  },
  {
   "cell_type": "markdown",
   "id": "0ab269b4-bc7d-404b-b5b1-81bcf4a9030f",
   "metadata": {},
   "source": [
    "# Adding Cells at the End\n"
   ]
  },
  {
   "cell_type": "code",
   "execution_count": 16,
   "id": "e5eb01a3-0a49-4c55-8f9e-eb25f7c0ace3",
   "metadata": {},
   "outputs": [
    {
     "name": "stdout",
     "output_type": "stream",
     "text": [
      "10\n",
      "20\n",
      "30\n",
      "40\n"
     ]
    }
   ],
   "source": [
    "class Node:\n",
    "    def __init__(self, value):\n",
    "        self.value = value\n",
    "        self.next = None\n",
    "\n",
    "def AddAtEnd(sentinel, new_cell):\n",
    "    # Traverse the list to find the last cell\n",
    "    while sentinel.next is not None:\n",
    "        sentinel = sentinel.next  # Move to the next node\n",
    "\n",
    "    # Add the new cell at the end\n",
    "    sentinel.next = new_cell\n",
    "    new_cell.next = None  # Ensure the new cell's `next` is set to None\n",
    "\n",
    "# Creating nodes for testing\n",
    "node1 = Node(10)\n",
    "node2 = Node(20)\n",
    "node3 = Node(30)\n",
    "\n",
    "# Linking nodes to form a linked list\n",
    "node1.next = node2  # Node 1 points to Node 2\n",
    "node2.next = node3  # Node 2 points to Node 3\n",
    "\n",
    "# Creating a new cell to add at the end\n",
    "new_node = Node(40)\n",
    "\n",
    "# Adding the new cell at the end of the list\n",
    "AddAtEnd(node1, new_node)\n",
    "\n",
    "# Verifying the result by traversing the list\n",
    "current = node1\n",
    "while current is not None:\n",
    "    print(current.value)\n",
    "    current = current.next\n"
   ]
  },
  {
   "cell_type": "markdown",
   "id": "7f0ddc9c-415b-4700-99c9-b94102af1dca",
   "metadata": {},
   "source": [
    "# Inserting Cells After Other Cells"
   ]
  },
  {
   "cell_type": "code",
   "execution_count": 17,
   "id": "58bf102b-9e33-49df-a8f7-10ce8c6bcd10",
   "metadata": {},
   "outputs": [],
   "source": [
    "def InsertCell(after_me, new_cell):\n",
    "    new.cell.next = after_me.next\n",
    "    after_me.next = new_cell\n"
   ]
  },
  {
   "cell_type": "code",
   "execution_count": 18,
   "id": "d1a5cd3e-aa2d-4941-9221-a70f410107e3",
   "metadata": {},
   "outputs": [],
   "source": [
    "def DeleteAfter(after_me):\n",
    "    target = after_me.next\n",
    "    after_me = target.next\n"
   ]
  },
  {
   "cell_type": "markdown",
   "id": "7edd7a0f-07bc-40ab-a9be-9689366e77a7",
   "metadata": {},
   "source": [
    "# Delete list"
   ]
  },
  {
   "cell_type": "code",
   "execution_count": 19,
   "id": "491f8fe5-0cac-4c70-b53a-b0eda6903af5",
   "metadata": {},
   "outputs": [],
   "source": [
    "def DestroyList(sentinel):\n",
    "    while sentinel is not None:  # Traverse the list\n",
    "        # Save a reference to the next cell\n",
    "        next_cell = sentinel.next\n",
    "        \n",
    "        # \"Destroy\" the current node\n",
    "        sentinel.next = None  # Sever the link (optional, but good practice)\n",
    "        sentinel = None       # Clear the current node (optional for clarity)\n",
    "        \n",
    "        # Move to the next cell\n",
    "        sentinel = next_cell"
   ]
  },
  {
   "cell_type": "markdown",
   "id": "8d791a37-1f06-4321-8692-bc8187b44d33",
   "metadata": {},
   "source": [
    "# Double Linked List"
   ]
  },
  {
   "cell_type": "code",
   "execution_count": 20,
   "id": "b09436d6-1e5b-4d7e-a2d9-5f8d6b223b33",
   "metadata": {},
   "outputs": [],
   "source": [
    "class Node:\n",
    "    def __init__(self, value):\n",
    "        self.value = value\n",
    "        self.next = None\n",
    "        self.prev = None\n",
    "\n",
    "def InsertCell(after_me, new_cell):\n",
    "    # Update `next` links\n",
    "    new_cell.next = after_me.next  # Link the new node to the next node\n",
    "    after_me.next = new_cell       # Link the current node to the new node\n",
    "\n",
    "    # Update `prev` links\n",
    "    if new_cell.next is not None:  # If there is a next node, update its `prev` pointer\n",
    "        new_cell.next.prev = new_cell\n",
    "    new_cell.prev = after_me  # Link the new node back to the current node\n"
   ]
  },
  {
   "cell_type": "markdown",
   "id": "d45a87cf-ba3e-4a19-8929-999d398a7961",
   "metadata": {},
   "source": [
    "## Sorted linked list"
   ]
  },
  {
   "cell_type": "code",
   "execution_count": 21,
   "id": "87d533fa-8d8c-437a-a6c0-4f6a11261551",
   "metadata": {},
   "outputs": [],
   "source": [
    "class Node:\n",
    "    def __init__(self, value):\n",
    "        self.value = value\n",
    "        self.next = None\n",
    "\n",
    "def InsertCell(sentinel, new_cell):\n",
    "    # Find the appropriate position to insert the new cell\n",
    "    while sentinel.next is not None and sentinel.next.value < new_cell.value:\n",
    "        sentinel = sentinel.next  # Move to the next node\n",
    "\n",
    "    # Insert the new cell after sentinel\n",
    "    new_cell.next = sentinel.next\n",
    "    sentinel.next = new_cell\n"
   ]
  },
  {
   "cell_type": "code",
   "execution_count": 22,
   "id": "1d69a99f-d53c-4de6-b307-553c513d6c3c",
   "metadata": {},
   "outputs": [],
   "source": [
    "def InsertCell(sentinel, new_cell):\n",
    "    while sentinel.next is not None and sentinel.next.value < new_cell.value:\n",
    "        sentinel = sentinel.next  # Move to the next node\n",
    "    new_cell.next = sentinel.next\n",
    "    sentinel.next = new_cell"
   ]
  },
  {
   "cell_type": "markdown",
   "id": "2f53b57d-d387-4c3f-a6c6-1e6e526d653c",
   "metadata": {},
   "source": [
    "# Insertionsort"
   ]
  },
  {
   "cell_type": "code",
   "execution_count": 23,
   "id": "6d763f38-59d6-44c7-9501-36bf2a535a4b",
   "metadata": {},
   "outputs": [],
   "source": [
    "class Node:\n",
    "    def __init__(self, value=None):\n",
    "        self.value = value\n",
    "        self.next = None\n",
    "\n",
    "def Insertionsort(old_sentinel):\n",
    "    # Make a sentinel for the sorted list\n",
    "    new_sentinel = Node()  # New sentinel node\n",
    "    new_sentinel.next = None\n",
    "\n",
    "    # Skip the old list's sentinel\n",
    "    old_sentinel = old_sentinel.next\n",
    "\n",
    "    # Repeat until all items are added to the new list\n",
    "    while old_sentinel is not None:\n",
    "        # Get the next cell to add to the sorted list\n",
    "        next_cell = old_sentinel\n",
    "\n",
    "        # Advance old_sentinel for the next iteration\n",
    "        old_sentinel = old_sentinel.next\n",
    "\n",
    "        # Find where to insert the cell in the sorted list\n",
    "        after_me = new_sentinel\n",
    "        while after_me.next is not None and after_me.next.value < next_cell.value:\n",
    "            after_me = after_me.next\n",
    "\n",
    "        # Insert the cell into the sorted list\n",
    "        next_cell.next = after_me.next\n",
    "        after_me.next = next_cell\n",
    "\n",
    "    # Return the sorted list\n",
    "    return new_sentinel\n"
   ]
  },
  {
   "cell_type": "markdown",
   "id": "038addce-e09c-41b1-ad1f-f6d9c9ff1c5e",
   "metadata": {},
   "source": [
    "# FindMinimum"
   ]
  },
  {
   "cell_type": "code",
   "execution_count": 24,
   "id": "5185efeb-80dd-436a-9211-67bbe60685aa",
   "metadata": {},
   "outputs": [
    {
     "name": "stdout",
     "output_type": "stream",
     "text": [
      "The minimum value in the array is: 3\n"
     ]
    }
   ],
   "source": [
    "def FindMinimum(array):\n",
    "    # Initialize the minimum with the first element of the array\n",
    "    minimum = array[0]\n",
    "\n",
    "    # Loop through the rest of the array\n",
    "    for i in range(1, len(array)):\n",
    "        if array[i] < minimum:\n",
    "            minimum = array[i]  # Update minimum if a smaller value is found\n",
    "\n",
    "    return minimum\n",
    "\n",
    "array = [34, 78, 12, 56, 89, 3, 45]\n",
    "minimum_value = FindMinimum(array)\n",
    "print(\"The minimum value in the array is:\", minimum_value)\n"
   ]
  },
  {
   "cell_type": "code",
   "execution_count": 25,
   "id": "fb7b9d66-23aa-442b-a8d4-e56e21dab12e",
   "metadata": {},
   "outputs": [
    {
     "name": "stdout",
     "output_type": "stream",
     "text": [
      "The minimum value in the array is: 3\n"
     ]
    }
   ],
   "source": [
    "def FindMinimum(array):\n",
    "    return min(array)\n",
    "\n",
    "array = [34, 78, 12, 56, 89, 3, 45]\n",
    "print(\"The minimum value in the array is:\", FindMinimum(array))\n"
   ]
  },
  {
   "cell_type": "markdown",
   "id": "c945f7ca-ee73-4c98-b1d2-c3190436be73",
   "metadata": {},
   "source": [
    "# FindMaximum"
   ]
  },
  {
   "cell_type": "code",
   "execution_count": 26,
   "id": "0d7f7b97-fb0b-4ac3-a8bc-d7b4f8058ee8",
   "metadata": {},
   "outputs": [
    {
     "name": "stdout",
     "output_type": "stream",
     "text": [
      "The minimum value in the array is: 3\n"
     ]
    }
   ],
   "source": [
    "def FindMaximum(array):\n",
    "    # Initialize the maximum with the first element of the array\n",
    "    maximum = array[0]\n",
    "\n",
    "    # loop through the rest of array\n",
    "    for i in range (i, len(array)):\n",
    "        if array[i] > maximum:\n",
    "            maximum = array[i]  # Update maximum if a smaller value is found\n",
    "    return maximum\n",
    "\n",
    "array = [34, 78, 12, 56, 89, 3, 45]\n",
    "print(\"The minimum value in the array is:\", FindMinimum(array))\n"
   ]
  },
  {
   "cell_type": "code",
   "execution_count": 27,
   "id": "e85ef8a5-ed6d-465a-a8d0-17293c29ea8e",
   "metadata": {},
   "outputs": [
    {
     "name": "stdout",
     "output_type": "stream",
     "text": [
      "The minimum value in the array is: 89\n"
     ]
    }
   ],
   "source": [
    "def FindMinimum(array):\n",
    "    return max(array)\n",
    "\n",
    "array = [34, 78, 12, 56, 89, 3, 45]\n",
    "print(\"The minimum value in the array is:\", FindMinimum(array))"
   ]
  },
  {
   "cell_type": "markdown",
   "id": "2337c4d1-6e90-4cb6-891c-3b5f9f6ec1f9",
   "metadata": {},
   "source": [
    "# FindAverage"
   ]
  },
  {
   "cell_type": "code",
   "execution_count": 28,
   "id": "00645531-89d9-40a2-bfe4-e3e756b6c23b",
   "metadata": {},
   "outputs": [
    {
     "name": "stdout",
     "output_type": "stream",
     "text": [
      "The average value of the array is:45.29\n"
     ]
    }
   ],
   "source": [
    "def FindAverage(array):\n",
    "    # Initialize total to 0\n",
    "    total = 0\n",
    "\n",
    "    # Loop through the array and sum the elements\n",
    "    for i in range(len(array)):\n",
    "        total += array[i]\n",
    "\n",
    "    # Return the average\n",
    "    return total / len(array)\n",
    "\n",
    "\n",
    "array = [34, 78, 12, 56, 89, 3, 45]\n",
    "print(f\"The average value of the array is:{FindAverage(array):.2f}\")      "
   ]
  },
  {
   "cell_type": "code",
   "execution_count": 29,
   "id": "dd65245b-601a-414c-9ced-2b56a108d10c",
   "metadata": {},
   "outputs": [
    {
     "name": "stdout",
     "output_type": "stream",
     "text": [
      "The average value of the array is:45.29\n"
     ]
    }
   ],
   "source": [
    "def FindMinimum(array):\n",
    "    return avg(array)\n",
    "\n",
    "array = [34, 78, 12, 56, 89, 3, 45]\n",
    "print(f\"The average value of the array is:{FindAverage(array):.2f}\")     "
   ]
  },
  {
   "cell_type": "markdown",
   "id": "ca397b89-9cf1-4202-a5c6-65b76a4a7c2c",
   "metadata": {},
   "source": [
    "# FindMedian"
   ]
  },
  {
   "cell_type": "code",
   "execution_count": 30,
   "id": "ab31703d-52e3-4b1d-a13f-79f49d91225f",
   "metadata": {},
   "outputs": [
    {
     "name": "stdout",
     "output_type": "stream",
     "text": [
      "The median value of the array is: 45\n"
     ]
    }
   ],
   "source": [
    "def FindMedian(array):\n",
    "    for i in range(len(array)):\n",
    "        # Count numbers smaller and larger than array[i]\n",
    "        num_larger = 0\n",
    "        num_smaller = 0\n",
    "        \n",
    "        for j in range(len(array)):\n",
    "            if array[j] < array[i]:\n",
    "                num_smaller += 1\n",
    "            if array[j] > array[i]:\n",
    "                num_larger += 1\n",
    "\n",
    "    # Check if current element is the median\n",
    "    if num_smaller == num_larger:\n",
    "        return array[i]\n",
    "\n",
    "array = [34, 78, 12, 56, 89, 3, 45]\n",
    "median_value = FindMedian(array)\n",
    "print(\"The median value of the array is:\", median_value)"
   ]
  },
  {
   "cell_type": "code",
   "execution_count": 31,
   "id": "4bed20c4-9390-4a7d-8a34-5d2b1319e3f7",
   "metadata": {},
   "outputs": [
    {
     "name": "stdout",
     "output_type": "stream",
     "text": [
      "The median value of the array is: 45\n"
     ]
    }
   ],
   "source": [
    "def FindMedian(array):\n",
    "    # Sort the array\n",
    "    array.sort()\n",
    "    \n",
    "    # Check if the length of the array is odd\n",
    "    if len(array) % 2 == 1:\n",
    "        # Return the middle element\n",
    "        return array[len(array) // 2]\n",
    "    else:\n",
    "        # Return the average of the two middle elements\n",
    "        mid = len(array) // 2\n",
    "        return (array[mid - 1] + array[mid]) / 2\n",
    "\n",
    "array = [34, 78, 12, 56, 89, 3, 45]\n",
    "median_value = FindMedian(array)\n",
    "print(\"The median value of the array is:\", median_value)"
   ]
  },
  {
   "cell_type": "markdown",
   "id": "14e887b0-24b8-4268-8754-5dcc6e4a99b6",
   "metadata": {},
   "source": [
    "# Push Stack"
   ]
  },
  {
   "cell_type": "code",
   "execution_count": 32,
   "id": "11b1fde7-839f-4d9a-95f7-0f9515f821f7",
   "metadata": {},
   "outputs": [],
   "source": [
    "class Node:\n",
    "    def __init__(self, value=None):\n",
    "        self.value = value\n",
    "        self.next = None\n",
    "\n",
    "def Push(sentinel, new_value):\n",
    "    # Create a new node to hold the value\n",
    "    new_cell = Node(new_value)\n",
    "\n",
    "    # add the new cell to the front of the linked list\n",
    "    new_cell.next = sentinel.next\n",
    "    sentinel.next = new_cell\n"
   ]
  },
  {
   "cell_type": "code",
   "execution_count": 33,
   "id": "4df23f57-f03d-4d9a-b97a-13054ddd7ab9",
   "metadata": {},
   "outputs": [
    {
     "name": "stdout",
     "output_type": "stream",
     "text": [
      "30 -> 20 -> 10 -> None\n"
     ]
    }
   ],
   "source": [
    "# Helper function to print the linked list\n",
    "def print_linked_list(sentinel):\n",
    "    current = sentinel.next  # Skip the sentinel\n",
    "    while current:\n",
    "        print(current.value, end=\" -> \")\n",
    "        current = current.next\n",
    "    print(\"None\")\n",
    "\n",
    "# Initialize a sentinel node (dummy head)\n",
    "sentinel = Node()\n",
    "\n",
    "# Push values into the linked list\n",
    "Push(sentinel, 10)\n",
    "Push(sentinel, 20)\n",
    "Push(sentinel, 30)\n",
    "\n",
    "# Print the linked list\n",
    "print_linked_list(sentinel)\n"
   ]
  },
  {
   "cell_type": "markdown",
   "id": "c526683e-b53d-4924-9b24-cdbb65e53c04",
   "metadata": {},
   "source": [
    "# Pop Stack"
   ]
  },
  {
   "cell_type": "code",
   "execution_count": 34,
   "id": "d7762f0f-2a35-4f77-9ad0-9f02376afe91",
   "metadata": {},
   "outputs": [],
   "source": [
    "class Node:\n",
    "    def __init__(self, value=None):\n",
    "        self.value = value\n",
    "        self.next = None\n",
    "\n",
    "def Pop(sentinel):\n",
    "    # Ensure there is an item to pop\n",
    "    if sentinel.next is None:\n",
    "        raise Exception(\"Cannot pop from an empty list.\")\n",
    "    \n",
    "    # Get the top cell's value\n",
    "    result = sentinel.next.value\n",
    "\n",
    "    # Remove the top cell from the linked list\n",
    "    sentinel.next = sentinel.next.next\n",
    "\n",
    "    # Return the result\n",
    "    return result\n"
   ]
  },
  {
   "cell_type": "code",
   "execution_count": 35,
   "id": "37fe82a2-d3de-408f-ac2c-a0fc15f14161",
   "metadata": {},
   "outputs": [
    {
     "name": "stdout",
     "output_type": "stream",
     "text": [
      "Initial linked list:\n",
      "30 -> 20 -> 10 -> None\n",
      "\n",
      "Popped value: 30\n",
      "Linked list after pop:\n",
      "20 -> 10 -> None\n",
      "\n",
      "Popped value: 20\n",
      "Linked list after pop:\n",
      "10 -> None\n"
     ]
    }
   ],
   "source": [
    "# Helper function to print the linked list\n",
    "def print_linked_list(sentinel):\n",
    "    current = sentinel.next  # Skip the sentinel\n",
    "    while current:\n",
    "        print(current.value, end=\" -> \")\n",
    "        current = current.next\n",
    "    print(\"None\")\n",
    "\n",
    "# Initialize a sentinel node (dummy head)\n",
    "sentinel = Node()\n",
    "\n",
    "# Push values into the linked list\n",
    "Push(sentinel, 10)\n",
    "Push(sentinel, 20)\n",
    "Push(sentinel, 30)\n",
    "\n",
    "print(\"Initial linked list:\")\n",
    "print_linked_list(sentinel)\n",
    "\n",
    "# Pop values from the list\n",
    "print(\"\\nPopped value:\", Pop(sentinel))\n",
    "print(\"Linked list after pop:\")\n",
    "print_linked_list(sentinel)\n",
    "\n",
    "print(\"\\nPopped value:\", Pop(sentinel))\n",
    "print(\"Linked list after pop:\")\n",
    "print_linked_list(sentinel)\n"
   ]
  },
  {
   "cell_type": "markdown",
   "id": "a831d8c9-9dd2-4483-b259-0f9aba4f1d17",
   "metadata": {},
   "source": [
    "# Reverse Array with a Stack"
   ]
  },
  {
   "cell_type": "code",
   "execution_count": 36,
   "id": "482c0b07-e932-4985-b01a-376872fccac7",
   "metadata": {},
   "outputs": [],
   "source": [
    "def ReverseArray(values):\n",
    "    # Use a list to simulate a stack\n",
    "    stack = []\n",
    "\n",
    "    # Push the values from the array onto the stack\n",
    "    for value in values:\n",
    "        stack.append(value)\n",
    "\n",
    "    # Pop the items off the stack into the array\n",
    "    for i in range(len(values)):\n",
    "        values[i] = stack.pop()  # Pop from the stack and overwrite the array\n"
   ]
  },
  {
   "cell_type": "code",
   "execution_count": 37,
   "id": "00ab2b36-48d6-4628-aaed-a39ac08207b4",
   "metadata": {},
   "outputs": [
    {
     "name": "stdout",
     "output_type": "stream",
     "text": [
      "Original array: [1, 2, 3, 4, 5]\n",
      "Reversed array: [5, 4, 3, 2, 1]\n"
     ]
    }
   ],
   "source": [
    "values = [1, 2, 3, 4, 5]\n",
    "\n",
    "print(\"Original array:\", values)\n",
    "\n",
    "ReverseArray(values)\n",
    "\n",
    "print(\"Reversed array:\", values)\n"
   ]
  },
  {
   "cell_type": "code",
   "execution_count": 38,
   "id": "640c08ed-876b-4f01-bd25-728e321798b2",
   "metadata": {},
   "outputs": [
    {
     "name": "stdout",
     "output_type": "stream",
     "text": [
      "Original array: [1, 2, 3, 4, 5]\n",
      "Reversed array: [5, 4, 3, 2, 1]\n"
     ]
    }
   ],
   "source": [
    "def ReverseArray(values):\n",
    "    values.reverse()  # In-place reversal\n",
    "\n",
    "values = [1, 2, 3, 4, 5]\n",
    "\n",
    "print(\"Original array:\", values)\n",
    "ReverseArray(values)\n",
    "print(\"Reversed array:\", values)"
   ]
  },
  {
   "cell_type": "code",
   "execution_count": 39,
   "id": "f8347113-a27a-42bf-9f83-3bff80d4850c",
   "metadata": {},
   "outputs": [
    {
     "name": "stdout",
     "output_type": "stream",
     "text": [
      "Original array: [1, 2, 3, 4, 5]\n",
      "Reversed array: [5, 4, 3, 2, 1]\n"
     ]
    }
   ],
   "source": [
    "def ReverseArray(values):\n",
    "    values[:] = values[::-1]  # Slice-based reversal\n",
    "\n",
    "values = [1, 2, 3, 4, 5]\n",
    "\n",
    "print(\"Original array:\", values)\n",
    "ReverseArray(values)\n",
    "print(\"Reversed array:\", values)"
   ]
  }
 ],
 "metadata": {
  "kernelspec": {
   "display_name": "Python 3 (ipykernel)",
   "language": "python",
   "name": "python3"
  },
  "language_info": {
   "codemirror_mode": {
    "name": "ipython",
    "version": 3
   },
   "file_extension": ".py",
   "mimetype": "text/x-python",
   "name": "python",
   "nbconvert_exporter": "python",
   "pygments_lexer": "ipython3",
   "version": "3.11.6"
  }
 },
 "nbformat": 4,
 "nbformat_minor": 5
}

{
 "cells": [
  {
   "cell_type": "markdown",
   "id": "2353c9ff-1e7a-4709-82b5-dfef35370f63",
   "metadata": {},
   "source": [
    "### For measure time"
   ]
  },
  {
   "cell_type": "code",
   "execution_count": 16,
   "id": "5f29cffd-e0cf-45ac-8c91-5af533bf4617",
   "metadata": {},
   "outputs": [
    {
     "data": {
      "image/png": "[encoded data removed]",
      "text/plain": [
       "<Figure size 640x480 with 1 Axes>"
      ]
     },
     "metadata": {},
     "output_type": "display_data"
    }
   ],
   "source": [
    "import time\n",
    "import matplotlib.pyplot as plt\n",
    "\n",
    "def measure_time(func, *args):\n",
    "    start_time = time.time()\n",
    "    func(*args)\n",
    "    end_time = time.time()\n",
    "    return end_time - start_time\n",
    "\n",
    "def linear_function(n):\n",
    "    total = 0\n",
    "    for i in range(n):\n",
    "        total += i\n",
    "    return total\n",
    "\n",
    "def example_function(n):\n",
    "    total = 0\n",
    "    for i in range(n):\n",
    "        for j in range(n):\n",
    "            total += i + j\n",
    "    return total\n",
    "\n",
    "n_values = [1000, 2000, 4000, 8000, 16000]\n",
    "linear_times = []\n",
    "example_times = []\n",
    "\n",
    "for n in n_values:\n",
    "    linear_time = measure_time(linear_function, n)\n",
    "    example_time = measure_time(example_function, n)\n",
    "    linear_times.append(linear_time)\n",
    "    example_times.append(example_time)\n",
    "\n",
    "plt.plot(n_values, linear_times, label='Linear Time Function')\n",
    "plt.plot(n_values, example_times, label='Example Function')\n",
    "plt.xlabel('Input Size')\n",
    "plt.ylabel('Time (seconds)')\n",
    "plt.legend()\n",
    "plt.show()\n"
   ]
  },
  {
   "cell_type": "markdown",
   "id": "14c33277-2465-4614-9ced-928c37a27e7d",
   "metadata": {},
   "source": [
    "If example_function becomes too slow for large n_values (e.g., \n",
    "𝑛=32000\n",
    "\n",
    "reduce the range of n_values for better performance during testing.\n",
    "Use logarithmic scales for larger input ranges to make comparisons cleare"
   ]
  },
  {
   "cell_type": "code",
   "execution_count": null,
   "id": "4b0c8fcd-8f7f-40b4-96cc-d5d81218f43a",
   "metadata": {},
   "outputs": [],
   "source": [
    "plt.yscale('log')\n",
    "plt.xscale('log')\n"
   ]
  },
  {
   "cell_type": "markdown",
   "id": "87278ba6-62ee-44f4-a606-5faeef993c16",
   "metadata": {},
   "source": [
    "# Linear Search"
   ]
  },
  {
   "cell_type": "code",
   "execution_count": 1,
   "id": "7a04c1e7-34c0-449d-99dd-5576660532f6",
   "metadata": {},
   "outputs": [
    {
     "name": "stdout",
     "output_type": "stream",
     "text": [
      "Target 34 found at index: 3\n",
      "Target 50 found at index: -1\n"
     ]
    }
   ],
   "source": [
    "def linear_search(values, target):\n",
    "    \"\"\"\n",
    "    Find the index of the target in the sorted array.\n",
    "    If not found, return -1.\n",
    "    \"\"\"\n",
    "    for i in range(len(values)):\n",
    "        # Check if the current value matches the target\n",
    "        if values[i] == target:\n",
    "            return i\n",
    "        # If the current value exceeds the target, stop searching\n",
    "        if values[i] > target:\n",
    "            return -1\n",
    "    # If we reach here, the target is not in the array\n",
    "    return -1\n",
    "\n",
    "# Example usage\n",
    "data = [11, 22, 25, 34, 64, 90]\n",
    "target = 34\n",
    "result = linear_search(data, target)\n",
    "print(f\"Target {target} found at index: {result}\")  # Outputs: Target 34 found at index: 3\n",
    "\n",
    "target = 50\n",
    "result = linear_search(data, target)\n",
    "print(f\"Target {target} found at index: {result}\")  # Outputs: Target 50 found at index: -1\n"
   ]
  },
  {
   "cell_type": "code",
   "execution_count": 24,
   "id": "215d6fb6-c788-4744-a174-97b31193efc6",
   "metadata": {},
   "outputs": [
    {
     "name": "stdout",
     "output_type": "stream",
     "text": [
      "Original list: Target 34 found at index: 3\n",
      "Elapsed time: 0.000027 seconds\n",
      "Reversed list: Target 34 found at index: 2\n",
      "Elapsed time: 0.000026 seconds\n",
      "Random list: Target 34 found at index: 1\n",
      "Elapsed time: 0.000036 seconds\n"
     ]
    }
   ],
   "source": [
    "import random\n",
    "import time\n",
    "\n",
    "# Lineaarisen haun korjaus\n",
    "def linear_search(values, target):\n",
    "    for i in range(len(values)):\n",
    "        if values[i] == target:  # Kohde löytyi\n",
    "            return i\n",
    "    return -1  # Kohdetta ei löytynyt\n",
    "\n",
    "# Testidata\n",
    "data = [11, 22, 25, 34, 64, 90]\n",
    "target = 34\n",
    "\n",
    "# 1. Alkuperäinen lista\n",
    "start_time = time.time()\n",
    "result = linear_search(data, target)\n",
    "end_time = time.time()\n",
    "elapsed_time = end_time - start_time\n",
    "print(f\"Original list: Target {target} found at index: {result}\")\n",
    "print(f\"Elapsed time: {elapsed_time:.6f} seconds\")\n",
    "\n",
    "# 2. Käännetty lista\n",
    "data2 = data[::-1]\n",
    "start_time = time.time()\n",
    "result = linear_search(data2, target)\n",
    "end_time = time.time()\n",
    "elapsed_time = end_time - start_time\n",
    "print(f\"Reversed list: Target {target} found at index: {result}\")\n",
    "print(f\"Elapsed time: {elapsed_time:.6f} seconds\")\n",
    "\n",
    "# 3. Satunnainen lista\n",
    "data3 = random.sample(data, len(data))\n",
    "start_time = time.time()\n",
    "result = linear_search(data3, target)\n",
    "end_time = time.time()\n",
    "elapsed_time = end_time - start_time\n",
    "print(f\"Random list: Target {target} found at index: {result}\")\n",
    "print(f\"Elapsed time: {elapsed_time:.6f} seconds\")\n",
    "\n"
   ]
  },
  {
   "cell_type": "markdown",
   "id": "6267a9c8-8e15-49c8-9d93-d10f445bedb7",
   "metadata": {},
   "source": [
    "# Binary Search"
   ]
  },
  {
   "cell_type": "code",
   "execution_count": 3,
   "id": "0b95f7a0-b298-416e-b4e1-8139dd2e5e75",
   "metadata": {},
   "outputs": [],
   "source": [
    "# mittaa aika"
   ]
  },
  {
   "cell_type": "code",
   "execution_count": 2,
   "id": "98254f3e-5c90-42bf-a256-896093eb5a2d",
   "metadata": {},
   "outputs": [
    {
     "name": "stdout",
     "output_type": "stream",
     "text": [
      "Target 34 found at index: 3\n",
      "Target 50 found at index: -1\n"
     ]
    }
   ],
   "source": [
    "def binary_search(values, target):\n",
    "    \"\"\"\n",
    "    Perform binary search to find the target in the sorted array.\n",
    "    Returns the index of the target, or -1 if not found.\n",
    "    \"\"\"\n",
    "    min_index = 0\n",
    "    max_index = len(values) - 1\n",
    "\n",
    "    while min_index <= max_index:\n",
    "        # Find the middle index\n",
    "        mid = (min_index + max_index) // 2\n",
    "\n",
    "        # Check the middle element\n",
    "        if target < values[mid]:\n",
    "            max_index = mid - 1  # Focus on the left half\n",
    "        elif target > values[mid]:\n",
    "            min_index = mid + 1  # Focus on the right half\n",
    "        else:\n",
    "            return mid  # Target found\n",
    "\n",
    "    # Target not found\n",
    "    return -1\n",
    "\n",
    "# Example usage\n",
    "data = [11, 22, 25, 34, 64, 90]\n",
    "target = 34\n",
    "result = binary_search(data, target)\n",
    "print(f\"Target {target} found at index: {result}\")  # Outputs: Target 34 found at index: 3\n",
    "\n",
    "target = 50\n",
    "result = binary_search(data, target)\n",
    "print(f\"Target {target} found at index: {result}\")  # Outputs: Target 50 found at index: -1\n"
   ]
  },
  {
   "cell_type": "code",
   "execution_count": 41,
   "id": "102f2dd3-04c4-45d0-b22e-9bb39151115e",
   "metadata": {},
   "outputs": [
    {
     "name": "stdout",
     "output_type": "stream",
     "text": [
      "Original list: Target 34 found at index: 3\n",
      "Elapsed time: 0.000026464 seconds\n",
      "Reversed list: Target 34 found at index: 2\n",
      "Elapsed time: 0.000024557 seconds\n",
      "Random list: Target 34 found at index: 2\n",
      "Elapsed time: 0.000023365 seconds\n"
     ]
    }
   ],
   "source": [
    "import random\n",
    "import time\n",
    "\n",
    "# Lineaarisen haun korjaus\n",
    "def linear_search(values, target):\n",
    "    for i in range(len(values)):\n",
    "        if values[i] == target:  # Kohde löytyi\n",
    "            return i\n",
    "    return -1  # Kohdetta ei löytynyt\n",
    "\n",
    "# Testidata\n",
    "data = [11, 22, 25, 34, 64, 90]\n",
    "target = 34\n",
    "\n",
    "# 1. Alkuperäinen lista\n",
    "start_time = time.time()\n",
    "result = linear_search(data, target)\n",
    "end_time = time.time()\n",
    "elapsed_time = end_time - start_time\n",
    "print(f\"Original list: Target {target} found at index: {result}\")\n",
    "print(f\"Elapsed time: {elapsed_time:.9f} seconds\")\n",
    "\n",
    "# 2. Käännetty lista\n",
    "data2 = data[::-1]\n",
    "start_time = time.time()\n",
    "result = linear_search(data2, target)\n",
    "end_time = time.time()\n",
    "elapsed_time = end_time - start_time\n",
    "print(f\"Reversed list: Target {target} found at index: {result}\")\n",
    "print(f\"Elapsed time: {elapsed_time:.9f} seconds\")\n",
    "\n",
    "# 3. Satunnainen lista\n",
    "data3 = random.sample(data, len(data))\n",
    "start_time = time.time()\n",
    "result = linear_search(data3, target)\n",
    "end_time = time.time()\n",
    "elapsed_time = end_time - start_time\n",
    "print(f\"Random list: Target {target} found at index: {result}\")\n",
    "print(f\"Elapsed time: {elapsed_time:.9f} seconds\")\n",
    "\n"
   ]
  },
  {
   "cell_type": "markdown",
   "id": "59a28407-1a00-4596-b519-6e85ecbbc42b",
   "metadata": {},
   "source": [
    "# Chaining Hash Table"
   ]
  },
  {
   "cell_type": "code",
   "execution_count": 4,
   "id": "7293ed97-80bb-422f-bb1b-8594a71e1f79",
   "metadata": {},
   "outputs": [
    {
     "name": "stdout",
     "output_type": "stream",
     "text": [
      "1\n",
      "5\n",
      "-1\n"
     ]
    }
   ],
   "source": [
    "def find_value(array, key, empty_marker=None):\n",
    "    \"\"\"\n",
    "    Search for `key` in the array using linear probing.\n",
    "    Return the index of the key if found, otherwise -1.\n",
    "    \"\"\"\n",
    "    probe = hash(key) % len(array)  # Initial location in probe sequence\n",
    "    start_probe = probe  # To detect infinite loops\n",
    "\n",
    "    while True:\n",
    "        # Check if the key is found\n",
    "        if array[probe] == key:\n",
    "            return probe\n",
    "        # Check if the current location is empty\n",
    "        if array[probe] == empty_marker:\n",
    "            return -1\n",
    "        # Move to the next location in the probe sequence\n",
    "        probe = (probe + 1) % len(array)\n",
    "        # Terminate if we have searched the entire array\n",
    "        if probe == start_probe:\n",
    "            return -1\n",
    "\n",
    "\n",
    "\n",
    "# Example hash table with EMPTY markers as None\n",
    "hash_table = [None, 22, 33, None, 55, 11, None]\n",
    "\n",
    "# Search for existing and non-existing keys\n",
    "print(find_value(hash_table, 22, empty_marker=None))  # Outputs: 1 (found at index 1)\n",
    "print(find_value(hash_table, 11, empty_marker=None))  # Outputs: 5 (found at index 5)\n",
    "print(find_value(hash_table, 99, empty_marker=None))  # Outputs: -1 (not found)\n",
    "\n"
   ]
  },
  {
   "cell_type": "code",
   "execution_count": 5,
   "id": "2f75ec9c-89dd-4174-90b5-386f7c59ad50",
   "metadata": {},
   "outputs": [
    {
     "name": "stdout",
     "output_type": "stream",
     "text": [
      "Hash Table: [None, 22, None, None, 11, 33, 55]\n"
     ]
    }
   ],
   "source": [
    "def add_item(array, key, empty_marker=None):\n",
    "    \"\"\"\n",
    "    Add `key` to the array using linear probing.\n",
    "    If the insertion requires rehashing, displaced items are re-probed.\n",
    "    \"\"\"\n",
    "    probe = hash(key) % len(array)  # Initial location in probe sequence\n",
    "\n",
    "    while True:\n",
    "        # Check if we found an empty spot\n",
    "        if array[probe] == empty_marker:\n",
    "            array[probe] = key\n",
    "            return\n",
    "\n",
    "        # Check if the current value is greater than the key\n",
    "        if array[probe] > key:\n",
    "            # Swap the current value with the key and rehash the displaced value\n",
    "            temp = array[probe]\n",
    "            array[probe] = key\n",
    "            key = temp\n",
    "\n",
    "        # Move to the next location in the probe sequence (linear probing)\n",
    "        probe = (probe + 1) % len(array)\n",
    "# Define a hash table with EMPTY markers as None\n",
    "hash_table = [None] * 7  # Hash table with 7 slots\n",
    "\n",
    "# Add items to the hash table\n",
    "add_item(hash_table, 22, empty_marker=None)\n",
    "add_item(hash_table, 11, empty_marker=None)\n",
    "add_item(hash_table, 33, empty_marker=None)\n",
    "add_item(hash_table, 55, empty_marker=None)\n",
    "\n",
    "# Print the hash table\n",
    "print(\"Hash Table:\", hash_table)\n"
   ]
  },
  {
   "cell_type": "markdown",
   "id": "405c9362-f7bc-48a1-bf6b-05cb93fe0aee",
   "metadata": {},
   "source": [
    "# Fibonacci"
   ]
  },
  {
   "cell_type": "code",
   "execution_count": 14,
   "id": "82040868-872b-4686-b903-872ac14c548b",
   "metadata": {},
   "outputs": [],
   "source": [
    "def fibonacci(n):\n",
    "    \"\"\"\n",
    "    Calculate the nth Fibonacci number using recursion.\n",
    "\n",
    "    :param n: The position in the Fibonacci sequence (0-based).\n",
    "    :return: The nth Fibonacci number.\n",
    "    \"\"\"\n",
    "    if n <= 1:\n",
    "        return n  # Base case\n",
    "    return fibonacci(n - 1) + fibonacci(n - 2)  # Recursive case\n"
   ]
  },
  {
   "cell_type": "code",
   "execution_count": 15,
   "id": "50a01610-37bb-44e3-9be7-fc2d1d504eb6",
   "metadata": {},
   "outputs": [
    {
     "name": "stdout",
     "output_type": "stream",
     "text": [
      "Fibonacci(0) = 0\n",
      "Fibonacci(1) = 1\n",
      "Fibonacci(2) = 1\n",
      "Fibonacci(3) = 2\n",
      "Fibonacci(4) = 3\n",
      "Fibonacci(5) = 5\n",
      "Fibonacci(6) = 8\n",
      "Fibonacci(7) = 13\n",
      "Fibonacci(8) = 21\n",
      "Fibonacci(9) = 34\n"
     ]
    }
   ],
   "source": [
    "# Compute the first 10 Fibonacci numbers\n",
    "for i in range(10):\n",
    "    print(f\"Fibonacci({i}) = {fibonacci(i)}\")\n"
   ]
  },
  {
   "cell_type": "markdown",
   "id": "ee037b67-f9a7-413e-9d79-254120d9b57b",
   "metadata": {},
   "source": [
    "# Tower of Hanoi Solver"
   ]
  },
  {
   "cell_type": "code",
   "execution_count": 11,
   "id": "3d6552f7-ed2f-4ea1-afbd-65108fa0cd1e",
   "metadata": {},
   "outputs": [],
   "source": [
    "def tower_of_hanoi(n, source, target, auxiliary):\n",
    "    \"\"\"\n",
    "    Solve the Tower of Hanoi problem.\n",
    "\n",
    "    :param n: Number of disks\n",
    "    :param source: Name of the source rod\n",
    "    :param target: Name of the target rod\n",
    "    :param auxiliary: Name of the auxiliary rod\n",
    "    \"\"\"\n",
    "    if n == 1:\n",
    "        # Base case: Move a single disk directly from source to target\n",
    "        print(f\"Move disk 1 from {source} to {target}\")\n",
    "        return\n",
    "    \n",
    "    # Step 1: Move n-1 disks from source to auxiliary, using target as auxiliary\n",
    "    tower_of_hanoi(n - 1, source, auxiliary, target)\n",
    "    \n",
    "    # Step 2: Move the nth disk from source to target\n",
    "    print(f\"Move disk {n} from {source} to {target}\")\n",
    "    \n",
    "    # Step 3: Move n-1 disks from auxiliary to target, using source as auxiliary\n",
    "    tower_of_hanoi(n - 1, auxiliary, target, source)\n"
   ]
  },
  {
   "cell_type": "code",
   "execution_count": 12,
   "id": "8d8410b0-bbc0-407f-9b8d-f14176b8e366",
   "metadata": {},
   "outputs": [
    {
     "name": "stdout",
     "output_type": "stream",
     "text": [
      "Move disk 1 from A to C\n",
      "Move disk 2 from A to B\n",
      "Move disk 1 from C to B\n",
      "Move disk 3 from A to C\n",
      "Move disk 1 from B to A\n",
      "Move disk 2 from B to C\n",
      "Move disk 1 from A to C\n"
     ]
    }
   ],
   "source": [
    "# Solve Tower of Hanoi with 3 disks\n",
    "n_disks = 3\n",
    "tower_of_hanoi(n_disks, \"A\", \"C\", \"B\")\n"
   ]
  },
  {
   "cell_type": "markdown",
   "id": "b474fe53-9f4e-4a24-8a01-506ed60c7608",
   "metadata": {},
   "source": [
    "# Sorted Binary Tree"
   ]
  },
  {
   "cell_type": "code",
   "execution_count": 9,
   "id": "afd6c278-9940-4f9a-ab50-792ba8d9c760",
   "metadata": {},
   "outputs": [],
   "source": [
    "class BinaryNode:\n",
    "    def __init__(self, name):\n",
    "        \"\"\"\n",
    "        Constructor for BinaryNode.\n",
    "\n",
    "        :param name: Name of the node (string)\n",
    "        \"\"\"\n",
    "        self.name = name\n",
    "        self.left_child = None  # Reference to the left child\n",
    "        self.right_child = None  # Reference to the right child\n",
    "\n",
    "    def __repr__(self):\n",
    "        \"\"\"\n",
    "        String representation of the node for debugging purposes.\n",
    "        \"\"\"\n",
    "        return f\"BinaryNode(Name: {self.name})\"\n"
   ]
  },
  {
   "cell_type": "code",
   "execution_count": 10,
   "id": "ba2bf8b0-49ab-419b-86f8-5b07306d95df",
   "metadata": {},
   "outputs": [
    {
     "name": "stdout",
     "output_type": "stream",
     "text": [
      "Root: BinaryNode(Name: Root)\n",
      "Left child of root: BinaryNode(Name: LeftChild)\n",
      "Right child of root: BinaryNode(Name: RightChild)\n"
     ]
    }
   ],
   "source": [
    "# Create nodes\n",
    "root = BinaryNode(\"Root\")\n",
    "left = BinaryNode(\"LeftChild\")\n",
    "right = BinaryNode(\"RightChild\")\n",
    "\n",
    "# Link nodes\n",
    "root.left_child = left\n",
    "root.right_child = right\n",
    "\n",
    "# Print the tree structure\n",
    "print(f\"Root: {root}\")\n",
    "print(f\"Left child of root: {root.left_child}\")\n",
    "print(f\"Right child of root: {root.right_child}\")\n"
   ]
  },
  {
   "cell_type": "markdown",
   "id": "87ffd40f-6580-43e9-8223-30ef454bf324",
   "metadata": {},
   "source": [
    "# Add Node"
   ]
  },
  {
   "cell_type": "code",
   "execution_count": 6,
   "id": "c85f449e-9e5a-4520-b633-e7380cc8e775",
   "metadata": {},
   "outputs": [
    {
     "name": "stdout",
     "output_type": "stream",
     "text": [
      "20 30 40 50 60 70 80 \n"
     ]
    }
   ],
   "source": [
    "class BinaryNode:\n",
    "    def __init__(self, value):\n",
    "        self.value = value\n",
    "        self.left = None\n",
    "        self.right = None\n",
    "\n",
    "    def add_node(self, new_value):\n",
    "        \"\"\"\n",
    "        Add a new value to the sorted subtree rooted at this node.\n",
    "        \"\"\"\n",
    "        if new_value < self.value:\n",
    "            # The new value is smaller, add to the left subtree\n",
    "            if self.left is None:\n",
    "                self.left = BinaryNode(new_value)\n",
    "            else:\n",
    "                self.left.add_node(new_value)\n",
    "        else:\n",
    "            # The new value is greater or equal, add to the right subtree\n",
    "            if self.right is None:\n",
    "                self.right = BinaryNode(new_value)\n",
    "            else:\n",
    "                self.right.add_node(new_value)\n",
    "\n",
    "# Example usage\n",
    "root = BinaryNode(50)\n",
    "root.add_node(30)\n",
    "root.add_node(70)\n",
    "root.add_node(20)\n",
    "root.add_node(40)\n",
    "root.add_node(60)\n",
    "root.add_node(80)\n",
    "\n",
    "# Function to print the tree in-order (for verification)\n",
    "def in_order_traversal(node):\n",
    "    if node is not None:\n",
    "        in_order_traversal(node.left)\n",
    "        print(node.value, end=\" \")\n",
    "        in_order_traversal(node.right)\n",
    "\n",
    "# Print the tree\n",
    "in_order_traversal(root)\n",
    "print()\n"
   ]
  },
  {
   "cell_type": "markdown",
   "id": "37d40b27-86ae-4ef6-873c-52265228610c",
   "metadata": {},
   "source": [
    "# Find Node"
   ]
  },
  {
   "cell_type": "code",
   "execution_count": 7,
   "id": "3d74d322-d483-48b8-99f6-a1a3cd4fa42a",
   "metadata": {},
   "outputs": [
    {
     "name": "stdout",
     "output_type": "stream",
     "text": [
      "Found node with value: 40\n",
      "Node not found.\n"
     ]
    }
   ],
   "source": [
    "class BinaryNode:\n",
    "    def __init__(self, value):\n",
    "        self.value = value\n",
    "        self.left = None\n",
    "        self.right = None\n",
    "\n",
    "    def add_node(self, new_value):\n",
    "        \"\"\"\n",
    "        Add a new value to the sorted subtree rooted at this node.\n",
    "        \"\"\"\n",
    "        if new_value < self.value:\n",
    "            if self.left is None:\n",
    "                self.left = BinaryNode(new_value)\n",
    "            else:\n",
    "                self.left.add_node(new_value)\n",
    "        else:\n",
    "            if self.right is None:\n",
    "                self.right = BinaryNode(new_value)\n",
    "            else:\n",
    "                self.right.add_node(new_value)\n",
    "\n",
    "    def find_node(self, target):\n",
    "        \"\"\"\n",
    "        Find a node with the given target value in the subtree rooted at this node.\n",
    "        \"\"\"\n",
    "        # If we've found the target value, return this node\n",
    "        if self.value == target:\n",
    "            return self\n",
    "\n",
    "        # Search the left subtree\n",
    "        if target < self.value:\n",
    "            if self.left is None:\n",
    "                return None\n",
    "            return self.left.find_node(target)\n",
    "\n",
    "        # Search the right subtree\n",
    "        if self.right is None:\n",
    "            return None\n",
    "        return self.right.find_node(target)\n",
    "\n",
    "\n",
    "# Example usage\n",
    "root = BinaryNode(50)\n",
    "root.add_node(30)\n",
    "root.add_node(70)\n",
    "root.add_node(20)\n",
    "root.add_node(40)\n",
    "root.add_node(60)\n",
    "root.add_node(80)\n",
    "\n",
    "# Find nodes\n",
    "found_node = root.find_node(40)\n",
    "print(f\"Found node with value: {found_node.value}\" if found_node else \"Node not found.\")\n",
    "\n",
    "not_found_node = root.find_node(100)\n",
    "print(f\"Found node with value: {not_found_node.value}\" if not_found_node else \"Node not found.\")\n",
    "\n"
   ]
  },
  {
   "cell_type": "markdown",
   "id": "a271b075-579b-4a72-b74d-d92fc5fd4f10",
   "metadata": {},
   "source": [
    "# Delete Node"
   ]
  },
  {
   "cell_type": "code",
   "execution_count": 8,
   "id": "40783978-9528-4bc4-bb8c-6c2d215c20ae",
   "metadata": {},
   "outputs": [
    {
     "name": "stdout",
     "output_type": "stream",
     "text": [
      "Original tree (in-order):\n",
      "20 30 40 50 60 70 80 \n",
      "After deleting 20 (leaf):\n",
      "30 40 50 60 70 80 \n",
      "After deleting 30 (one child):\n",
      "40 50 60 70 80 \n",
      "After deleting 50 (two children):\n",
      "40 60 70 80 \n"
     ]
    }
   ],
   "source": [
    "class BinaryNode:\n",
    "    def __init__(self, value):\n",
    "        self.value = value\n",
    "        self.left = None\n",
    "        self.right = None\n",
    "\n",
    "    def add_node(self, new_value):\n",
    "        \"\"\"Add a new value to the sorted subtree rooted at this node.\"\"\"\n",
    "        if new_value < self.value:\n",
    "            if self.left is None:\n",
    "                self.left = BinaryNode(new_value)\n",
    "            else:\n",
    "                self.left.add_node(new_value)\n",
    "        else:\n",
    "            if self.right is None:\n",
    "                self.right = BinaryNode(new_value)\n",
    "            else:\n",
    "                self.right.add_node(new_value)\n",
    "\n",
    "    def delete_node(self, target):\n",
    "        \"\"\"\n",
    "        Delete the node with the given target value.\n",
    "        Returns the updated subtree root after deletion.\n",
    "        \"\"\"\n",
    "        if target < self.value:\n",
    "            # Target is in the left subtree\n",
    "            if self.left is not None:\n",
    "                self.left = self.left.delete_node(target)\n",
    "        elif target > self.value:\n",
    "            # Target is in the right subtree\n",
    "            if self.right is not None:\n",
    "                self.right = self.right.delete_node(target)\n",
    "        else:\n",
    "            # Node to delete found\n",
    "            # Case 1: No children\n",
    "            if self.left is None and self.right is None:\n",
    "                return None\n",
    "\n",
    "            # Case 2: One child\n",
    "            if self.left is None:\n",
    "                return self.right\n",
    "            if self.right is None:\n",
    "                return self.left\n",
    "\n",
    "            # Case 3: Two children\n",
    "            # Find the in-order successor (smallest value in the right subtree)\n",
    "            successor = self.right\n",
    "            while successor.left is not None:\n",
    "                successor = successor.left\n",
    "            # Replace the node's value with the successor's value\n",
    "            self.value = successor.value\n",
    "            # Delete the successor node from the right subtree\n",
    "            self.right = self.right.delete_node(successor.value)\n",
    "\n",
    "        return self\n",
    "\n",
    "# Helper function to print the tree in-order (for verification)\n",
    "def in_order_traversal(node):\n",
    "    if node is not None:\n",
    "        in_order_traversal(node.left)\n",
    "        print(node.value, end=\" \")\n",
    "        in_order_traversal(node.right)\n",
    "\n",
    "# Example usage\n",
    "root = BinaryNode(50)\n",
    "root.add_node(30)\n",
    "root.add_node(70)\n",
    "root.add_node(20)\n",
    "root.add_node(40)\n",
    "root.add_node(60)\n",
    "root.add_node(80)\n",
    "\n",
    "print(\"Original tree (in-order):\")\n",
    "in_order_traversal(root)\n",
    "print()\n",
    "\n",
    "# Delete nodes\n",
    "root = root.delete_node(20)  # Leaf node\n",
    "print(\"After deleting 20 (leaf):\")\n",
    "in_order_traversal(root)\n",
    "print()\n",
    "\n",
    "root = root.delete_node(30)  # Node with one child\n",
    "print(\"After deleting 30 (one child):\")\n",
    "in_order_traversal(root)\n",
    "print()\n",
    "\n",
    "root = root.delete_node(50)  # Node with two children\n",
    "print(\"After deleting 50 (two children):\")\n",
    "in_order_traversal(root)\n",
    "print()\n"
   ]
  }
 ],
 "metadata": {
  "kernelspec": {
   "display_name": "Python 3 (ipykernel)",
   "language": "python",
   "name": "python3"
  },
  "language_info": {
   "codemirror_mode": {
    "name": "ipython",
    "version": 3
   },
   "file_extension": ".py",
   "mimetype": "text/x-python",
   "name": "python",
   "nbconvert_exporter": "python",
   "pygments_lexer": "ipython3",
   "version": "3.11.6"
  }
 },
 "nbformat": 4,
 "nbformat_minor": 5
}
